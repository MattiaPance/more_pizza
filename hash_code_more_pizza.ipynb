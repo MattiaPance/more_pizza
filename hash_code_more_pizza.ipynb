{
 "cells": [
  {
   "cell_type": "markdown",
   "metadata": {},
   "source": [
    "# more_pizza"
   ]
  },
  {
   "cell_type": "code",
   "execution_count": null,
   "metadata": {
    "colab": {
     "base_uri": "https://localhost:8080/",
     "height": 138
    },
    "colab_type": "code",
    "id": "Jrq33XBfpnqD",
    "outputId": "d4b53975-0bc7-4ca3-eb49-241e94d44f30"
   },
   "outputs": [],
   "source": [
    "import numpy as np\n",
    "import itertools"
   ]
  },
  {
   "cell_type": "code",
   "execution_count": null,
   "metadata": {
    "colab": {},
    "colab_type": "code",
    "id": "5apr-kGbqG7k"
   },
   "outputs": [],
   "source": [
    "# Data ingestion\n",
    "def load_dataset(dataset_name, verbose=False):\n",
    "  with open('datasets\\\\' + dataset_name, \"r\") as f:\n",
    "    max_slices, types_of_pizzas = list(map(int, f.readline().split())) #read the first line \n",
    "    slices_per_type = list(map(int,f.readline().split())) #read the second line\n",
    "  \n",
    "  if verbose is True:\n",
    "    print('max_slices =', max_slices, '\\n#types_of_pizzas =', types_of_pizzas,'\\nslices_per_type:', slices_per_type, '\\n')\n",
    "  pizzas_spec_dict = {'max_slices': max_slices, 'types_of_pizzas': types_of_pizzas, 'slices_per_type': slices_per_type}\n",
    "  return pizzas_spec_dict"
   ]
  },
  {
   "cell_type": "code",
   "execution_count": null,
   "metadata": {
    "colab": {},
    "colab_type": "code",
    "id": "j8_p_XTUqL3N"
   },
   "outputs": [],
   "source": [
    "# Trivial solutions\n",
    "def take_last(pizzas_spec_dict):\n",
    "  #From problem description: the last element is always < max_slices\n",
    "  max_slices = pizzas_spec_dict['max_slices'] \n",
    "  types_of_pizzas = pizzas_spec_dict['types_of_pizzas']\n",
    "  slices_per_type = pizzas_spec_dict['slices_per_type']\n",
    "\n",
    "  selected_pizzas_array = [types_of_pizzas - 1] \n",
    "  return selected_pizzas_array\n",
    "\n",
    "\n",
    "def take_from_extremes(pizzas_spec_dict):\n",
    "  max_slices = pizzas_spec_dict['max_slices'] \n",
    "  types_of_pizzas = pizzas_spec_dict['types_of_pizzas']\n",
    "  slices_per_type = pizzas_spec_dict['slices_per_type']\n",
    "\n",
    "  selected_pizzas_array = [types_of_pizzas - 1]\n",
    "  end = 2\n",
    "\n",
    "  # Takes from tail\n",
    "  while max_slices >= sum(map(slices_per_type.__getitem__, selected_pizzas_array)) and end <= types_of_pizzas:\n",
    "    selected_pizzas_array.append(types_of_pizzas - end)\n",
    "    end += 1\n",
    "  selected_pizzas_array.pop()\n",
    "\n",
    "  end -= 1\n",
    "  start = 0\n",
    "  # Takes from head\n",
    "  while max_slices >= sum(map(slices_per_type.__getitem__, selected_pizzas_array)) and start < end: \n",
    "      selected_pizzas_array.append(start)\n",
    "      start +=1\n",
    "  selected_pizzas_array.pop()\n",
    "  return selected_pizzas_array\n",
    "\n",
    "\n",
    "def best_couple(pizzas_spec_dict):\n",
    "  max_slices = pizzas_spec_dict['max_slices'] \n",
    "  types_of_pizzas = pizzas_spec_dict['types_of_pizzas']\n",
    "  slices_per_type = pizzas_spec_dict['slices_per_type']\n",
    "\n",
    "  cartesian_product = np.array(list(itertools.product(slices_per_type, repeat=2)))\n",
    "  diff = np.sum(cartesian_product, axis=1) - max_slices\n",
    "  diff[diff > 0] = - max_slices\n",
    "  best_couple = np.argmax(diff)\n",
    "  selected_pizzas_array = [best_couple // types_of_pizzas, best_couple % types_of_pizzas]\n",
    "  return selected_pizzas_array"
   ]
  },
  {
   "cell_type": "markdown",
   "metadata": {},
   "source": [
    "## Try here your solutions"
   ]
  },
  {
   "cell_type": "code",
   "execution_count": null,
   "metadata": {
    "colab": {
     "base_uri": "https://localhost:8080/",
     "height": 138
    },
    "colab_type": "code",
    "id": "sb_8jTyxKEaB",
    "outputId": "3e098ff4-2fe0-4693-c21c-8fb5da1f6883"
   },
   "outputs": [],
   "source": [
    "# Evaluator\n",
    "pizzas_spec = load_dataset('e_also_big.in')\n",
    "pizza_method = take_from_extremes\n",
    "selected_pizzas = pizza_method(pizzas_spec)\n",
    "\n",
    "total_slices =sum(map(pizzas_spec['slices_per_type'].__getitem__, selected_pizzas)) \n",
    "\n",
    "if total_slices <= pizzas_spec['max_slices']:\n",
    "  print('Order is OK! Your score is:', total_slices, '({} %)'.format(round(total_slices/pizzas_spec['max_slices'] * 100, 8)))\n",
    "  print('\\nSelected pizzas are:', selected_pizzas)\n",
    "else: print('Order failed! You want too much pizza!')"
   ]
  },
  {
   "cell_type": "markdown",
   "metadata": {
    "colab_type": "text",
    "id": "O7xx9oLey_oi"
   },
   "source": [
    "### DATASET\n",
    "\n",
    "The first line of the data set contains the following data:\n",
    "*   an integer M (1 ≤M≤ 10^9) – the maximum number of pizza slices to order\n",
    "*   an integer N (1 ≤N≤ 105 ) – the number of dierent types of pizza\n",
    "\n",
    "The second line contains N integers –\n",
    "*   the number of slices in each type of pizza, in non-decreasing order: 1 ≤ S0 ≤ S1 ≤ … ≤ SN-1 <= M\n",
    "\n"
   ]
  },
  {
   "cell_type": "code",
   "execution_count": null,
   "metadata": {
    "colab": {},
    "colab_type": "code",
    "id": "PjIqkjMC8J8D"
   },
   "outputs": [],
   "source": []
  }
 ],
 "metadata": {
  "colab": {
   "collapsed_sections": [],
   "name": "hash_code_more_pizza.ipynb",
   "provenance": []
  },
  "kernelspec": {
   "display_name": "Python 3",
   "language": "python",
   "name": "python3"
  },
  "language_info": {
   "codemirror_mode": {
    "name": "ipython",
    "version": 3
   },
   "file_extension": ".py",
   "mimetype": "text/x-python",
   "name": "python",
   "nbconvert_exporter": "python",
   "pygments_lexer": "ipython3",
   "version": "3.7.2"
  }
 },
 "nbformat": 4,
 "nbformat_minor": 2
}
